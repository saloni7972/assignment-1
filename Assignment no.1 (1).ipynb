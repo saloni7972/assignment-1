{
 "cells": [
  {
   "cell_type": "markdown",
   "id": "c6a0a1bf-448d-426d-ae3f-b80e0f8ce7d2",
   "metadata": {},
   "source": [
    "Assignment No.1"
   ]
  },
  {
   "cell_type": "raw",
   "id": "bc5d91e7-8cc0-47ea-b312-75b536b7eeff",
   "metadata": {},
   "source": [
    "Q.1 Who doveloped python Programming Language? "
   ]
  },
  {
   "cell_type": "markdown",
   "id": "a8d6a8aa-b2af-4f1e-a0f5-bb4b8c9910a5",
   "metadata": {},
   "source": [
    "=Guido Van Rossum developed python programming language."
   ]
  },
  {
   "cell_type": "raw",
   "id": "b165c734-6e68-43bc-b546-05fd7cf42854",
   "metadata": {},
   "source": [
    "Q.2 Which type of programming does python support?"
   ]
  },
  {
   "cell_type": "markdown",
   "id": "2e80a09a-8008-4d1f-91f8-040f45849772",
   "metadata": {},
   "source": [
    "=Object oriented programming and structured programming. "
   ]
  },
  {
   "cell_type": "raw",
   "id": "693f808a-1f95-4101-bd98-08c11a5437f1",
   "metadata": {},
   "source": [
    "Q.3 Is python case sensitive when dealing with identifiers?"
   ]
  },
  {
   "cell_type": "markdown",
   "id": "ac73c5b7-1a4e-43f5-9fef-73df584b7bb6",
   "metadata": {},
   "source": [
    "=Yes. python is case sensetive language."
   ]
  },
  {
   "cell_type": "raw",
   "id": "d840aaf2-f820-45e1-98f4-58888a2279ad",
   "metadata": {},
   "source": [
    "Q.4 What is the correct extension of the python file?"
   ]
  },
  {
   "cell_type": "markdown",
   "id": "4802ebb8-ac14-4b2b-8703-a9ba11885891",
   "metadata": {},
   "source": [
    "=.py,.pyi,"
   ]
  },
  {
   "cell_type": "raw",
   "id": "fe83af42-0603-4723-b1a5-beaac2edccf1",
   "metadata": {},
   "source": [
    "Q.5 Is python code compiled or interpreted?"
   ]
  },
  {
   "cell_type": "markdown",
   "id": "fe6efd4e-b3cf-4b90-9769-51d2c0bb8a72",
   "metadata": {},
   "source": [
    "=python is an interpreted language and not a compiled one."
   ]
  },
  {
   "cell_type": "raw",
   "id": "30e574cb-6ecc-45d0-b736-5014c8f35225",
   "metadata": {},
   "source": [
    "Q.6  Name a few blocks of code used to define in python language?"
   ]
  },
  {
   "cell_type": "markdown",
   "id": "760da499-f289-4253-ba80-aae22487cf49",
   "metadata": {},
   "source": [
    "=Braces{}"
   ]
  },
  {
   "cell_type": "raw",
   "id": "d45a1a03-2a90-438e-80d2-7755838741f8",
   "metadata": {},
   "source": [
    "Q.7  State a character used to give single—line comments in python?"
   ]
  },
  {
   "cell_type": "markdown",
   "id": "40f190a6-ebf7-4e6e-86ea-28f2a6fb40ef",
   "metadata": {},
   "source": [
    "=Hash character (#) used to give single line comments in python."
   ]
  },
  {
   "cell_type": "raw",
   "id": "54e7f427-ae25-41c6-aabb-da5b3c6f1e4e",
   "metadata": {},
   "source": [
    "Q.8 Mention functions which can help us to find the version of python that we are currently working on?"
   ]
  },
  {
   "cell_type": "markdown",
   "id": "d3702a0e-08ac-491f-8230-8d5faf5da384",
   "metadata": {},
   "source": [
    "=The function sys.version can help us to find the version of python."
   ]
  },
  {
   "cell_type": "raw",
   "id": "a0aa5802-fcc0-4689-8959-ad5f15d580df",
   "metadata": {},
   "source": [
    "Q.9 python supports the creation of anonymous functions at runtime using a construt called ___"
   ]
  },
  {
   "cell_type": "markdown",
   "id": "366a3016-44e5-4377-a621-4332b1fa0c38",
   "metadata": {},
   "source": [
    "=Annonymous functionwhich are not bound to a name (@runtime).It uses a construct called lambda. "
   ]
  },
  {
   "cell_type": "raw",
   "id": "212d4d45-d4f9-4b7d-a12b-645ed9b1e7fe",
   "metadata": {},
   "source": [
    "Q.10 What does pip stand for python?"
   ]
  },
  {
   "cell_type": "markdown",
   "id": "49644388-467c-4f9f-bb32-c241d5ebcf63",
   "metadata": {},
   "source": [
    "=Preferred installer program "
   ]
  },
  {
   "cell_type": "raw",
   "id": "a893ba53-1217-4138-acb2-b30d44a479eb",
   "metadata": {},
   "source": [
    "Q.11 Mention a few built—in functions in python?"
   ]
  },
  {
   "cell_type": "markdown",
   "id": "177a6497-877b-4452-a43b-7f7e786171fe",
   "metadata": {},
   "source": [
    "=print() function, type() function,len() function, sum() function,  input() function, abs() function, pow() function, max() function, dir() function, sorted () function"
   ]
  },
  {
   "cell_type": "raw",
   "id": "2de38c4c-4585-4e31-bf3e-3372c7c763b4",
   "metadata": {},
   "source": [
    "Q.12.What is the maximum possible length of an identifier in Python?"
   ]
  },
  {
   "cell_type": "markdown",
   "id": "f04e74ca-49ed-4dfa-abf4-c68b1e9b0e5d",
   "metadata": {},
   "source": [
    "=79 character "
   ]
  },
  {
   "cell_type": "raw",
   "id": "43065a8f-3ccb-44e9-b721-256c4b1ff68a",
   "metadata": {},
   "source": [
    "Q.13.What are the benefits of using Python?"
   ]
  },
  {
   "cell_type": "markdown",
   "id": "213f8d87-6ff6-4fdb-a142-de23779fa078",
   "metadata": {},
   "source": [
    "=Data science, scientific and mathematical computing, web development, finance and trading, computer graphics, basic game development "
   ]
  },
  {
   "cell_type": "raw",
   "id": "a7b072fb-7498-4a84-9750-90273523a94a",
   "metadata": {},
   "source": [
    "Q.14.How is memory managed in Python?"
   ]
  },
  {
   "cell_type": "markdown",
   "id": "a30707f5-60d1-4d86-be2a-7b852f7d1713",
   "metadata": {},
   "source": [
    "=Memory management in python involves private heap containing all python objects and data structure."
   ]
  },
  {
   "cell_type": "raw",
   "id": "b1f91123-02b1-4543-8f37-caee9d6f001f",
   "metadata": {},
   "source": [
    "Q.15 How to install Python on Windows and set path variables?"
   ]
  },
  {
   "cell_type": "markdown",
   "id": "6707626e-3abd-4b47-bbdc-c5aa3cd17d90",
   "metadata": {},
   "source": [
    "=python on windows- 1)download python binaries from python.org  2)Install the binaries 3)Add python to system envirnment variables 4)Install pip 5)Install virtualenv using pip\n",
    "python on set path variables- 1)Right clicking this PC and going to properties. 2)Clicking on the advanced systeme setting in the menu on the left. 3)clicking on the envirnment variables button on the bottom right. 4)In the system variable section,selecting the path variable and clicking on edit. The next screen will show all the directories that are currently a part of the PATH variable. 5) Clicking on new and entering pythons install directory."
   ]
  },
  {
   "cell_type": "raw",
   "id": "d5727855-b9f1-49cd-a16a-8923e9db5479",
   "metadata": {},
   "source": [
    "Q.16 Is indentation required in python?"
   ]
  },
  {
   "cell_type": "markdown",
   "id": "67b871cb-6635-491f-bc8a-8ccc351bdb91",
   "metadata": {},
   "source": [
    "=The indentation in python is very important. Python uses indentation to indicate a block  of code.Indentation refers to the spaces at the beginning of a code line. where in other order programming languages the indentation in code is for readability only."
   ]
  },
  {
   "cell_type": "code",
   "execution_count": null,
   "id": "7681627e-7cf2-404b-a1fe-6b1301265b31",
   "metadata": {},
   "outputs": [],
   "source": []
  }
 ],
 "metadata": {
  "kernelspec": {
   "display_name": "Python 3 (ipykernel)",
   "language": "python",
   "name": "python3"
  },
  "language_info": {
   "codemirror_mode": {
    "name": "ipython",
    "version": 3
   },
   "file_extension": ".py",
   "mimetype": "text/x-python",
   "name": "python",
   "nbconvert_exporter": "python",
   "pygments_lexer": "ipython3",
   "version": "3.10.8"
  }
 },
 "nbformat": 4,
 "nbformat_minor": 5
}
